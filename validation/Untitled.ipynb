{
 "cells": [
  {
   "cell_type": "code",
   "execution_count": 22,
   "metadata": {
    "scrolled": false
   },
   "outputs": [
    {
     "name": "stdout",
     "output_type": "stream",
     "text": [
      "['   Step: Bending', '   Frame: Increment      1: Step Time =    1.000', '']\n",
      "['   Step: Jam_Bent', '   Frame: Increment      1: Step Time =    1.000', '']\n",
      "['   Step: Jam_Straight', '   Frame: Increment      1: Step Time =    1.000', '']\n",
      "['   Step: Bending', '   Frame: Increment      1: Step Time =    1.000', '']\n",
      "['   Step: Jam_Bent', '   Frame: Increment      1: Step Time =    1.000', '']\n",
      "['   Step: Jam_Straight', '   Frame: Increment      1: Step Time =    1.000', '']\n",
      "['   Step: Bending', '   Frame: Increment      1: Step Time =    1.000', '']\n",
      "['   Step: Jam_Bent', '   Frame: Increment      1: Step Time =    1.000', '']\n",
      "['   Step: Jam_Straight', '   Frame: Increment      1: Step Time =    1.000', '']\n"
     ]
    }
   ],
   "source": [
    "import numpy as np\n",
    "import matplotlib.pyplot as plt\n",
    "\n",
    "input_path = \"B737.inp\"\n",
    "output_path = \"B737.rpt\"\n",
    "\n",
    "with open(output_path, \"r\") as f:\n",
    "    raw = f.read()\n",
    "    raw = raw.split(r\"********************************************************************************\")\n",
    "    raw.pop(0)\n",
    "\n",
    "for output in raw:\n",
    "    print(output.splitlines()[7:10])"
   ]
  },
  {
   "cell_type": "code",
   "execution_count": null,
   "metadata": {},
   "outputs": [],
   "source": []
  }
 ],
 "metadata": {
  "kernelspec": {
   "display_name": "Python 3",
   "language": "python",
   "name": "python3"
  },
  "language_info": {
   "codemirror_mode": {
    "name": "ipython",
    "version": 3
   },
   "file_extension": ".py",
   "mimetype": "text/x-python",
   "name": "python",
   "nbconvert_exporter": "python",
   "pygments_lexer": "ipython3",
   "version": "3.8.1"
  }
 },
 "nbformat": 4,
 "nbformat_minor": 4
}
